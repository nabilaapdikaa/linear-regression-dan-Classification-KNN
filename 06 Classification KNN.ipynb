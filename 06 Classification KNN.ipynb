{
 "cells": [
  {
   "cell_type": "code",
   "execution_count": 8,
   "metadata": {},
   "outputs": [
    {
     "name": "stdout",
     "output_type": "stream",
     "text": [
      "   nama jenis_kelamin  usia  nilai_ipk\n",
      "0   Ani     perempuan    20       3.75\n",
      "1  Budi     laki-laki    22       3.85\n",
      "2  Cici     perempuan    21       3.65\n",
      "3  Doni     laki-laki    23       3.70\n",
      "4   Eva     perempuan    20       3.95\n"
     ]
    }
   ],
   "source": [
    "import pandas as pd\n",
    "\n",
    "# Data mahasiswa\n",
    "mahasiswa = {\n",
    "    'nama': ['Ani', 'Budi', 'Cici', 'Doni', 'Eva'],\n",
    "    'jenis_kelamin': ['perempuan', 'laki-laki', 'perempuan', 'laki-laki', 'perempuan'],\n",
    "    'usia': [20, 22, 21, 23, 20],\n",
    "    'nilai_ipk': [3.75, 3.85, 3.65, 3.70, 3.95]\n",
    "}\n",
    "\n",
    "# Membuat DataFrame\n",
    "mahasiswa_df = pd.DataFrame(mahasiswa)\n",
    "\n",
    "# Menampilkan DataFrame\n",
    "print(mahasiswa_df)"
   ]
  },
  {
   "cell_type": "code",
   "execution_count": 16,
   "metadata": {},
   "outputs": [
    {
     "data": {
      "image/png": "[encoded data removed]",
      "text/plain": [
       "<Figure size 640x480 with 1 Axes>"
      ]
     },
     "metadata": {},
     "output_type": "display_data"
    }
   ],
   "source": [
    "import matplotlib.pyplot as plt\n",
    "\n",
    "fig, ax = plt.subplots()\n",
    "for jk, d in mahasiswa_df.groupby('jenis_kelamin'):\n",
    "    ax.scatter(d['usia'], d['nilai_ipk'], label=jk)\n",
    "\n",
    "plt.legend(loc='upper left')\n",
    "plt.title('Sebaran Data Usia, IPK, dan Jenis Kelamin Mahasiswa')\n",
    "plt.xlabel('Usia')\n",
    "plt.ylabel('IPK')\n",
    "plt.grid(True)\n",
    "plt.show()"
   ]
  },
  {
   "cell_type": "code",
   "execution_count": 24,
   "metadata": {},
   "outputs": [
    {
     "name": "stdout",
     "output_type": "stream",
     "text": [
      "X_train:\n",
      "[[20.    3.75]\n",
      " [22.    3.85]\n",
      " [21.    3.65]\n",
      " [23.    3.7 ]\n",
      " [20.    3.95]]\n",
      "\n",
      "y_train: ['perempuan' 'laki-laki' 'perempuan' 'laki-laki' 'perempuan']\n"
     ]
    }
   ],
   "source": [
    "import numpy as np\n",
    "\n",
    "X_train = np.array(mahasiswa_df[['usia', 'nilai_ipk']])\n",
    "y_train = np.array(mahasiswa_df['jenis_kelamin'])\n",
    "\n",
    "print(f'X_train:\\n{X_train}\\n')\n",
    "print(f'y_train: {y_train}')"
   ]
  },
  {
   "cell_type": "code",
   "execution_count": 25,
   "metadata": {},
   "outputs": [
    {
     "name": "stdout",
     "output_type": "stream",
     "text": [
      "y_train:\n",
      "[[1]\n",
      " [0]\n",
      " [1]\n",
      " [0]\n",
      " [1]]\n"
     ]
    }
   ],
   "source": [
    "from sklearn.preprocessing import LabelBinarizer\n",
    "\n",
    "lb = LabelBinarizer()\n",
    "y_train = lb.fit_transform(y_train)\n",
    "print(f'y_train:\\n{y_train}')"
   ]
  },
  {
   "cell_type": "code",
   "execution_count": 26,
   "metadata": {},
   "outputs": [
    {
     "name": "stdout",
     "output_type": "stream",
     "text": [
      "y_train: [1 0 1 0 1]\n"
     ]
    }
   ],
   "source": [
    "y_train = y_train.flatten()\n",
    "print(f'y_train: {y_train}')"
   ]
  },
  {
   "cell_type": "code",
   "execution_count": 27,
   "metadata": {},
   "outputs": [
    {
     "data": {
      "text/plain": [
       "KNeighborsClassifier(n_neighbors=3)"
      ]
     },
     "execution_count": 27,
     "metadata": {},
     "output_type": "execute_result"
    }
   ],
   "source": [
    "from sklearn.neighbors import KNeighborsClassifier\n",
    "\n",
    "K = 3\n",
    "model = KNeighborsClassifier(n_neighbors=K)\n",
    "model.fit(X_train, y_train)"
   ]
  },
  {
   "cell_type": "code",
   "execution_count": 28,
   "metadata": {},
   "outputs": [
    {
     "data": {
      "text/plain": [
       "array([[22.  ,  3.85]])"
      ]
     },
     "execution_count": 28,
     "metadata": {},
     "output_type": "execute_result"
    }
   ],
   "source": [
    "usia = 22\n",
    "nilai_ipk = 3.85\n",
    "X_new = np.array([usia, nilai_ipk]).reshape(1, -1)\n",
    "X_new"
   ]
  },
  {
   "cell_type": "code",
   "execution_count": 29,
   "metadata": {},
   "outputs": [
    {
     "name": "stderr",
     "output_type": "stream",
     "text": [
      "c:\\Users\\ASUS\\anaconda3\\lib\\site-packages\\sklearn\\neighbors\\_classification.py:228: FutureWarning: Unlike other reduction functions (e.g. `skew`, `kurtosis`), the default behavior of `mode` typically preserves the axis it acts along. In SciPy 1.11.0, this behavior will change: the default value of `keepdims` will become False, the `axis` over which the statistic is taken will be eliminated, and the value None will no longer be accepted. Set `keepdims` to True or False to avoid this warning.\n",
      "  mode, _ = stats.mode(_y[neigh_ind, k], axis=1)\n"
     ]
    },
    {
     "data": {
      "text/plain": [
       "array([0])"
      ]
     },
     "execution_count": 29,
     "metadata": {},
     "output_type": "execute_result"
    }
   ],
   "source": [
    "y_new = model.predict(X_new)\n",
    "y_new"
   ]
  },
  {
   "cell_type": "code",
   "execution_count": 30,
   "metadata": {},
   "outputs": [
    {
     "data": {
      "text/plain": [
       "array(['laki-laki'], dtype='<U9')"
      ]
     },
     "execution_count": 30,
     "metadata": {},
     "output_type": "execute_result"
    }
   ],
   "source": [
    "lb.inverse_transform(y_new)"
   ]
  },
  {
   "cell_type": "code",
   "execution_count": 37,
   "metadata": {},
   "outputs": [
    {
     "data": {
      "image/png": "[encoded data removed]",
      "text/plain": [
       "<Figure size 640x480 with 1 Axes>"
      ]
     },
     "metadata": {},
     "output_type": "display_data"
    }
   ],
   "source": [
    "afig, ax = plt.subplots()\n",
    "for jk, d in mahasiswa_df.groupby('jenis_kelamin'):\n",
    "    ax.scatter(d['usia'], d['nilai_ipk'], label=jk)\n",
    "\n",
    "plt.scatter(usia,\n",
    "            nilai_ipk,\n",
    "            marker='s',\n",
    "            color='red',\n",
    "            label='unknown')\n",
    "\n",
    "plt.legend(loc='upper left')\n",
    "plt.title('Sebaran Data Usia, IPK, dan Jenis Kelamin Mahasiswa')\n",
    "plt.xlabel('Usia')\n",
    "plt.ylabel('IPK')\n",
    "plt.grid(True)\n",
    "plt.show()"
   ]
  },
  {
   "cell_type": "code",
   "execution_count": 41,
   "metadata": {},
   "outputs": [
    {
     "data": {
      "text/plain": [
       "array([22.  ,  3.85])"
      ]
     },
     "execution_count": 41,
     "metadata": {},
     "output_type": "execute_result"
    }
   ],
   "source": [
    "unknown = np.array([usia, nilai_ipk])\n",
    "unknown"
   ]
  },
  {
   "cell_type": "code",
   "execution_count": 42,
   "metadata": {},
   "outputs": [
    {
     "data": {
      "text/plain": [
       "array([[20.  ,  3.75],\n",
       "       [22.  ,  3.85],\n",
       "       [21.  ,  3.65],\n",
       "       [23.  ,  3.7 ],\n",
       "       [20.  ,  3.95]])"
      ]
     },
     "execution_count": 42,
     "metadata": {},
     "output_type": "execute_result"
    }
   ],
   "source": [
    "X_train"
   ]
  },
  {
   "cell_type": "code",
   "execution_count": 43,
   "metadata": {},
   "outputs": [
    {
     "data": {
      "text/plain": [
       "[2.0024984394500787,\n",
       " 0.0,\n",
       " 1.019803902718557,\n",
       " 1.0111874208078342,\n",
       " 2.0024984394500787]"
      ]
     },
     "execution_count": 43,
     "metadata": {},
     "output_type": "execute_result"
    }
   ],
   "source": [
    "from scipy.spatial.distance import euclidean\n",
    "\n",
    "data_jarak = [euclidean(unknown, d) for d in X_train]\n",
    "data_jarak"
   ]
  },
  {
   "cell_type": "code",
   "execution_count": 44,
   "metadata": {},
   "outputs": [
    {
     "data": {
      "text/html": [
       "<div>\n",
       "<style scoped>\n",
       "    .dataframe tbody tr th:only-of-type {\n",
       "        vertical-align: middle;\n",
       "    }\n",
       "\n",
       "    .dataframe tbody tr th {\n",
       "        vertical-align: top;\n",
       "    }\n",
       "\n",
       "    .dataframe thead th {\n",
       "        text-align: right;\n",
       "    }\n",
       "</style>\n",
       "<table border=\"1\" class=\"dataframe\">\n",
       "  <thead>\n",
       "    <tr style=\"text-align: right;\">\n",
       "      <th></th>\n",
       "      <th>nama</th>\n",
       "      <th>jenis_kelamin</th>\n",
       "      <th>usia</th>\n",
       "      <th>nilai_ipk</th>\n",
       "      <th>jarak</th>\n",
       "    </tr>\n",
       "  </thead>\n",
       "  <tbody>\n",
       "    <tr>\n",
       "      <th>1</th>\n",
       "      <td>Budi</td>\n",
       "      <td>laki-laki</td>\n",
       "      <td>22</td>\n",
       "      <td>3.85</td>\n",
       "      <td>0.000000</td>\n",
       "    </tr>\n",
       "    <tr>\n",
       "      <th>3</th>\n",
       "      <td>Doni</td>\n",
       "      <td>laki-laki</td>\n",
       "      <td>23</td>\n",
       "      <td>3.70</td>\n",
       "      <td>1.011187</td>\n",
       "    </tr>\n",
       "    <tr>\n",
       "      <th>2</th>\n",
       "      <td>Cici</td>\n",
       "      <td>perempuan</td>\n",
       "      <td>21</td>\n",
       "      <td>3.65</td>\n",
       "      <td>1.019804</td>\n",
       "    </tr>\n",
       "    <tr>\n",
       "      <th>0</th>\n",
       "      <td>Ani</td>\n",
       "      <td>perempuan</td>\n",
       "      <td>20</td>\n",
       "      <td>3.75</td>\n",
       "      <td>2.002498</td>\n",
       "    </tr>\n",
       "    <tr>\n",
       "      <th>4</th>\n",
       "      <td>Eva</td>\n",
       "      <td>perempuan</td>\n",
       "      <td>20</td>\n",
       "      <td>3.95</td>\n",
       "      <td>2.002498</td>\n",
       "    </tr>\n",
       "  </tbody>\n",
       "</table>\n",
       "</div>"
      ],
      "text/plain": [
       "   nama jenis_kelamin  usia  nilai_ipk     jarak\n",
       "1  Budi     laki-laki    22       3.85  0.000000\n",
       "3  Doni     laki-laki    23       3.70  1.011187\n",
       "2  Cici     perempuan    21       3.65  1.019804\n",
       "0   Ani     perempuan    20       3.75  2.002498\n",
       "4   Eva     perempuan    20       3.95  2.002498"
      ]
     },
     "execution_count": 44,
     "metadata": {},
     "output_type": "execute_result"
    }
   ],
   "source": [
    "mahasiswa_df['jarak'] = data_jarak\n",
    "mahasiswa_df.sort_values(['jarak'])"
   ]
  },
  {
   "cell_type": "code",
   "execution_count": 53,
   "metadata": {},
   "outputs": [
    {
     "name": "stdout",
     "output_type": "stream",
     "text": [
      "X_test:\n",
      "[[21.    3.7 ]\n",
      " [23.    3.6 ]\n",
      " [20.    3.9 ]\n",
      " [22.    3.85]]\n",
      "\n",
      "y_test:\n",
      "[1 0 1 0]\n"
     ]
    }
   ],
   "source": [
    "X_test = np.array([[21, 3.70], [23, 3.60], [20, 3.90], [22, 3.85]])\n",
    "y_test = lb.transform(np.array(['perempuan', 'laki-laki', 'perempuan', 'laki-laki'])).flatten()\n",
    "print(f'X_test:\\n{X_test}\\n')\n",
    "print(f'y_test:\\n{y_test}')"
   ]
  },
  {
   "cell_type": "code",
   "execution_count": 56,
   "metadata": {},
   "outputs": [
    {
     "name": "stderr",
     "output_type": "stream",
     "text": [
      "c:\\Users\\ASUS\\anaconda3\\lib\\site-packages\\sklearn\\neighbors\\_classification.py:228: FutureWarning: Unlike other reduction functions (e.g. `skew`, `kurtosis`), the default behavior of `mode` typically preserves the axis it acts along. In SciPy 1.11.0, this behavior will change: the default value of `keepdims` will become False, the `axis` over which the statistic is taken will be eliminated, and the value None will no longer be accepted. Set `keepdims` to True or False to avoid this warning.\n",
      "  mode, _ = stats.mode(_y[neigh_ind, k], axis=1)\n"
     ]
    },
    {
     "data": {
      "text/plain": [
       "array([1, 0, 1, 0])"
      ]
     },
     "execution_count": 56,
     "metadata": {},
     "output_type": "execute_result"
    }
   ],
   "source": [
    "y_pred = model.predict(X_test)\n",
    "y_pred"
   ]
  },
  {
   "cell_type": "code",
   "execution_count": 55,
   "metadata": {},
   "outputs": [
    {
     "name": "stdout",
     "output_type": "stream",
     "text": [
      "Accuracy: 1.0\n"
     ]
    }
   ],
   "source": [
    "from sklearn.metrics import accuracy_score\n",
    "\n",
    "acc = accuracy_score(y_test, y_pred)\n",
    "\n",
    "print(f'Accuracy: {acc}')"
   ]
  },
  {
   "cell_type": "code",
   "execution_count": 54,
   "metadata": {},
   "outputs": [
    {
     "name": "stdout",
     "output_type": "stream",
     "text": [
      "Precission: 1.0\n"
     ]
    }
   ],
   "source": [
    "from sklearn.metrics import precision_score\n",
    "\n",
    "prec = precision_score(y_test, y_pred)\n",
    "\n",
    "print(f'Precission: {prec}')"
   ]
  },
  {
   "cell_type": "code",
   "execution_count": 57,
   "metadata": {},
   "outputs": [
    {
     "name": "stdout",
     "output_type": "stream",
     "text": [
      "Recall: 1.0\n"
     ]
    }
   ],
   "source": [
    "from sklearn.metrics import recall_score\n",
    "\n",
    "rec = recall_score(y_test, y_pred)\n",
    "\n",
    "print(f'Recall: {rec}')"
   ]
  },
  {
   "cell_type": "code",
   "execution_count": 58,
   "metadata": {},
   "outputs": [
    {
     "name": "stdout",
     "output_type": "stream",
     "text": [
      "F1-score: 1.0\n"
     ]
    }
   ],
   "source": [
    "from sklearn.metrics import f1_score\n",
    "\n",
    "f1 = f1_score(y_test, y_pred)\n",
    "\n",
    "print(f'F1-score: {f1}')"
   ]
  },
  {
   "cell_type": "code",
   "execution_count": 59,
   "metadata": {},
   "outputs": [
    {
     "name": "stdout",
     "output_type": "stream",
     "text": [
      "Classification Report:\n",
      "              precision    recall  f1-score   support\n",
      "\n",
      "           0       1.00      1.00      1.00         2\n",
      "           1       1.00      1.00      1.00         2\n",
      "\n",
      "    accuracy                           1.00         4\n",
      "   macro avg       1.00      1.00      1.00         4\n",
      "weighted avg       1.00      1.00      1.00         4\n",
      "\n"
     ]
    }
   ],
   "source": [
    "from sklearn.metrics import classification_report\n",
    "\n",
    "cls_report = classification_report(y_test, y_pred)\n",
    "\n",
    "print(f'Classification Report:\\n{cls_report}')"
   ]
  },
  {
   "cell_type": "code",
   "execution_count": 60,
   "metadata": {},
   "outputs": [
    {
     "name": "stdout",
     "output_type": "stream",
     "text": [
      "MCC: 1.0\n"
     ]
    }
   ],
   "source": [
    "from sklearn.metrics import matthews_corrcoef\n",
    "\n",
    "mcc = matthews_corrcoef(y_test, y_pred)\n",
    "\n",
    "print(f'MCC: {mcc}')"
   ]
  }
 ],
 "metadata": {
  "kernelspec": {
   "display_name": "Python 3",
   "language": "python",
   "name": "python3"
  },
  "language_info": {
   "codemirror_mode": {
    "name": "ipython",
    "version": 3
   },
   "file_extension": ".py",
   "mimetype": "text/x-python",
   "name": "python",
   "nbconvert_exporter": "python",
   "pygments_lexer": "ipython3",
   "version": "3.9.13"
  }
 },
 "nbformat": 4,
 "nbformat_minor": 2
}
